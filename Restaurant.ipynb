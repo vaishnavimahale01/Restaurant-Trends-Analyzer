{
 "cells": [
  {
   "cell_type": "code",
   "execution_count": null,
   "id": "53d047c3-6e77-4cb9-8b1b-adbff200b274",
   "metadata": {},
   "outputs": [],
   "source": [
    "# IMPORTING LIBRARIES\n",
    "import pandas as pd\n",
    "import numpy as np\n",
    "import matplotlib.pyplot as plt\n",
    "import seaborn as sns\n"
   ]
  },
  {
   "cell_type": "code",
   "execution_count": null,
   "id": "50af7f24-1dc3-422c-8ff2-9baea160ecc4",
   "metadata": {},
   "outputs": [],
   "source": [
    "df = pd.read_csv('zomato.csv')\n",
    "df1 = df"
   ]
  },
  {
   "cell_type": "code",
   "execution_count": null,
   "id": "28260862-f5ec-4bd7-8aa6-e2cc97358137",
   "metadata": {},
   "outputs": [],
   "source": [
    "df.head()"
   ]
  },
  {
   "cell_type": "code",
   "execution_count": null,
   "id": "a3aa8de4-19e8-4e65-9e6c-6790652bec5a",
   "metadata": {},
   "outputs": [],
   "source": [
    "df.shape"
   ]
  },
  {
   "cell_type": "code",
   "execution_count": null,
   "id": "26e100a3-f247-4367-81ee-a1cef543f7b8",
   "metadata": {},
   "outputs": [],
   "source": [
    "df.columns"
   ]
  },
  {
   "cell_type": "code",
   "execution_count": null,
   "id": "b99e2c26-eab7-41e3-9081-94f5ccb5b3f2",
   "metadata": {},
   "outputs": [],
   "source": [
    "df = df.drop(['url', 'address', 'phone', 'menu_item', 'dish_liked', 'reviews_list'], axis=1)"
   ]
  },
  {
   "cell_type": "code",
   "execution_count": null,
   "id": "19fe386a-a402-4030-8906-fa2762dd1176",
   "metadata": {},
   "outputs": [],
   "source": [
    "df.shape"
   ]
  },
  {
   "cell_type": "code",
   "execution_count": null,
   "id": "18bd01ff-6da1-45c8-a6a9-96a804395cc8",
   "metadata": {
    "scrolled": true
   },
   "outputs": [],
   "source": [
    "df.info()"
   ]
  },
  {
   "cell_type": "code",
   "execution_count": null,
   "id": "4cea60ff-04d8-416d-8dd5-478401f3db16",
   "metadata": {},
   "outputs": [],
   "source": [
    "df = df.drop_duplicates()\n",
    "df.shape"
   ]
  },
  {
   "cell_type": "markdown",
   "id": "0c6f86f5-5e18-4e7c-8174-53ac2bb20cc9",
   "metadata": {},
   "source": [
    "# LET'S CLEAN THE RATE COLUMN AS IT IS HAVING MOST NULL VALUES"
   ]
  },
  {
   "cell_type": "code",
   "execution_count": null,
   "id": "df4f0590-7dbe-410f-944b-b3c2619a5ebf",
   "metadata": {},
   "outputs": [],
   "source": [
    "# df.rate\n",
    "df['rate'].unique()"
   ]
  },
  {
   "cell_type": "code",
   "execution_count": null,
   "id": "cd3df527-a1fb-41c4-b5f0-fb5533f52fb1",
   "metadata": {},
   "outputs": [],
   "source": [
    "# we see there are 2 different types(NEW, -) of values instead of number or nan value \n",
    "\n",
    "def replace_with_nan(s):\n",
    "    if(s=='NEW' or s=='-'):\n",
    "        return np.nan\n",
    "    else:\n",
    "        s = str(s).split('/')\n",
    "        s = s[0]\n",
    "        return float(s)\n",
    "df['rate'] = df['rate'].apply(replace_with_nan)\n",
    "# df['rate'].unique()\n",
    "df['rate'].head()"
   ]
  },
  {
   "cell_type": "code",
   "execution_count": null,
   "id": "1ac1c924-9cff-43f1-aee2-50d219c10dbb",
   "metadata": {},
   "outputs": [],
   "source": [
    "df.rate.isnull().sum()"
   ]
  },
  {
   "cell_type": "code",
   "execution_count": null,
   "id": "cfe2f397-c07c-470c-b0c2-f637f4e32ffe",
   "metadata": {
    "scrolled": true
   },
   "outputs": [],
   "source": [
    "df['rate'].fillna(df['rate'].mean(), inplace = True) # REPLACE NAN WITH MEAN OF THE RATE COLUMN\n",
    "df['rate'].isnull().sum()"
   ]
  },
  {
   "cell_type": "code",
   "execution_count": null,
   "id": "5de1efd8-87ed-4717-b010-94cbeda2d2b7",
   "metadata": {},
   "outputs": [],
   "source": [
    "df.info()"
   ]
  },
  {
   "cell_type": "markdown",
   "id": "9cc9f186-0ff9-482b-afe9-de1df1df6e2f",
   "metadata": {},
   "source": [
    " # DROPPING ALL THE NULL VALUES SINCE THERE ARE NOT MUCH LEFT IN THE DATASET"
   ]
  },
  {
   "cell_type": "code",
   "execution_count": null,
   "id": "260b70cf-61e1-4284-81c3-1d01c80cdb78",
   "metadata": {},
   "outputs": [],
   "source": [
    "df = df.dropna()\n",
    "# df.head()\n",
    "df.info()"
   ]
  },
  {
   "cell_type": "markdown",
   "id": "fd2dfa85-86db-4f9a-8185-3b4131375bc3",
   "metadata": {},
   "source": [
    "# RENAMING THE COLUMNS"
   ]
  },
  {
   "cell_type": "code",
   "execution_count": null,
   "id": "b56aea62-7a6d-4590-ba63-31504c60ca02",
   "metadata": {},
   "outputs": [],
   "source": [
    "df = df.rename(columns = {'approx_cost(for two people)' : 'cost2plates', 'listed_in(type)' : 'Type', 'listed_in(city)' : 'city'})\n",
    "df.info()"
   ]
  },
  {
   "cell_type": "code",
   "execution_count": null,
   "id": "eaa0d8a4-596f-49e4-b6a2-0ca2572621d2",
   "metadata": {},
   "outputs": [],
   "source": [
    "df.location.unique()\n",
    "# df.location.value_counts()"
   ]
  },
  {
   "cell_type": "code",
   "execution_count": null,
   "id": "e2dde24e-bc03-4084-a3cf-626db0e1d9fc",
   "metadata": {},
   "outputs": [],
   "source": [
    "# df.city.unique()"
   ]
  },
  {
   "cell_type": "code",
   "execution_count": null,
   "id": "8e7cf2b7-342b-4ece-b49e-232a4875e27f",
   "metadata": {},
   "outputs": [],
   "source": [
    "# df = df.drop(['city'], axis = 1)\n",
    "df.info()"
   ]
  },
  {
   "cell_type": "markdown",
   "id": "dd8f3c25-a9a9-45f2-9e96-ac7c7ab5f8aa",
   "metadata": {},
   "source": [
    "# ANALYSIS OF COST2PLATES COLUMN"
   ]
  },
  {
   "cell_type": "code",
   "execution_count": null,
   "id": "8e559280-d95c-458b-8958-16db440ce540",
   "metadata": {},
   "outputs": [],
   "source": [
    "df['cost2plates'].unique()  \n",
    "# df['cost2plates'].info()"
   ]
  },
  {
   "cell_type": "markdown",
   "id": "f2fa5b8c-b298-44d2-bf1e-3b053d308504",
   "metadata": {},
   "source": [
    "# REMOVING COMMAS IN COST2PLATES COLUMN"
   ]
  },
  {
   "cell_type": "code",
   "execution_count": null,
   "id": "08f7fdae-7dd9-4e04-b9e5-3f05310b840f",
   "metadata": {},
   "outputs": [],
   "source": [
    "def remove_commas(s):\n",
    "    s = str(s)\n",
    "    if ',' in s:\n",
    "        s = s.replace(',', '')\n",
    "        return float(s)\n",
    "    else:\n",
    "        return float(s)\n",
    "df['cost2plates'] = df['cost2plates'].apply(remove_commas)\n",
    "df['cost2plates'].unique()"
   ]
  },
  {
   "cell_type": "code",
   "execution_count": null,
   "id": "c23d9d88-488e-4daa-9c0d-f66bc8132d2c",
   "metadata": {},
   "outputs": [],
   "source": [
    "# df['cost2plates'].info()\n",
    "# df['cost2plates'] = str(df['cost2plates']).str.split('.').str[0]\n",
    "df['cost2plates'].value_counts()"
   ]
  },
  {
   "cell_type": "code",
   "execution_count": null,
   "id": "4cd454d5-b4e1-4075-83c2-e9c5844a1fd1",
   "metadata": {},
   "outputs": [],
   "source": []
  },
  {
   "cell_type": "markdown",
   "id": "9dd48c70-3fc7-461e-81e3-fc116ba3473a",
   "metadata": {},
   "source": [
    "# ANALYSIS OF REST_TYPE"
   ]
  },
  {
   "cell_type": "code",
   "execution_count": null,
   "id": "8e010957-4896-407c-9f0e-34411bf46eef",
   "metadata": {},
   "outputs": [],
   "source": []
  },
  {
   "cell_type": "code",
   "execution_count": null,
   "id": "de0cb102-46ec-4cdb-93b2-0e49c29713c1",
   "metadata": {},
   "outputs": [],
   "source": [
    "df.rest_type.value_counts()"
   ]
  },
  {
   "cell_type": "code",
   "execution_count": null,
   "id": "4b49c2aa-8874-42c0-8946-fbd895c3997c",
   "metadata": {},
   "outputs": [],
   "source": [
    "rest_types = df['rest_type'].value_counts(ascending = False)\n",
    "rest_types"
   ]
  },
  {
   "cell_type": "markdown",
   "id": "f3f21fd0-244a-4899-a251-595aa82b78ad",
   "metadata": {},
   "source": [
    "# MAKING CLUSTERS OF REST_TYPE WHOSE VALUES ARE LESS THAN 1000"
   ]
  },
  {
   "cell_type": "code",
   "execution_count": null,
   "id": "8bcd3b65-7a45-4e52-82e3-9eda8a3dea6c",
   "metadata": {},
   "outputs": [],
   "source": [
    "rest_type_1000 = rest_types[rest_types<1000]\n",
    "rest_type_1000"
   ]
  },
  {
   "cell_type": "code",
   "execution_count": null,
   "id": "ed6e3c36-545c-428b-a2a0-deddad242afa",
   "metadata": {},
   "outputs": [],
   "source": [
    "def if_less_than(value):\n",
    "    if(value in rest_type_1000):   # if its present in rest_type_1000 then make it others\n",
    "        return 'others'\n",
    "    else:\n",
    "        return value\n",
    "df['rest_type'] = df['rest_type'].apply(if_less_than)\n",
    "df['rest_type'].value_counts()    "
   ]
  },
  {
   "cell_type": "code",
   "execution_count": null,
   "id": "b301aa5a-7d74-448c-9686-b489380d3493",
   "metadata": {},
   "outputs": [],
   "source": [
    "df.info()"
   ]
  },
  {
   "cell_type": "markdown",
   "id": "cf823517-7120-402a-b850-963ccd71d571",
   "metadata": {},
   "source": [
    "# ANALYSIS ON LOCATION COLUMN"
   ]
  },
  {
   "cell_type": "code",
   "execution_count": null,
   "id": "d1feb567-a0cd-4674-aaad-6b45a7c7ba62",
   "metadata": {},
   "outputs": [],
   "source": [
    "df.location.value_counts()"
   ]
  },
  {
   "cell_type": "markdown",
   "id": "dbe4d105-d1df-4a22-9a85-306091873b75",
   "metadata": {},
   "source": [
    "# MAKING CLUSTERS OF LOCATIONS WHOSE VALUES ARE LESS THAN 300"
   ]
  },
  {
   "cell_type": "code",
   "execution_count": null,
   "id": "7f6eab25-7593-40ad-a1ac-ffd722ed2a7d",
   "metadata": {},
   "outputs": [],
   "source": [
    "location = df['location'].value_counts(ascending = True)\n",
    "# print(location)\n",
    "location_300 = location[location<300]"
   ]
  },
  {
   "cell_type": "code",
   "execution_count": null,
   "id": "6310fc5f-80d0-4d8b-baac-7e40d47baf9d",
   "metadata": {},
   "outputs": [],
   "source": [
    "def if_less_than_300(value):\n",
    "    if(value in location_300):\n",
    "        return 'others'\n",
    "    else:\n",
    "        return value\n",
    "df['location'] = df['location'].apply(if_less_than_300)\n",
    "df.location.value_counts().head()"
   ]
  },
  {
   "cell_type": "code",
   "execution_count": null,
   "id": "9c440734-f2a4-4be7-a868-1c167c1c769e",
   "metadata": {},
   "outputs": [],
   "source": [
    "df.head()"
   ]
  },
  {
   "cell_type": "markdown",
   "id": "cc3e85e2-62c4-4d05-abb3-9d085bb5eeed",
   "metadata": {},
   "source": [
    "# MAKING CLUSTERS OF CUISINES WHOSE VALUES ARE LESS THAN 100"
   ]
  },
  {
   "cell_type": "code",
   "execution_count": null,
   "id": "3c3dba01-9f5b-4156-9e2b-1e2873f55f58",
   "metadata": {},
   "outputs": [],
   "source": [
    "cuisines = df['cuisines'].value_counts(ascending = True)\n",
    "cuisines_100 = cuisines[cuisines<100]"
   ]
  },
  {
   "cell_type": "code",
   "execution_count": null,
   "id": "8b085415-12d6-47e3-8e83-388c967e49b5",
   "metadata": {},
   "outputs": [],
   "source": [
    "def if_less_than_100(value):\n",
    "    if(value in cuisines_100):\n",
    "        return 'others'\n",
    "    else:\n",
    "        return value\n",
    "df['cuisines'] = df['cuisines'].apply(if_less_than_100)\n",
    "df.cuisines.value_counts()"
   ]
  },
  {
   "cell_type": "code",
   "execution_count": null,
   "id": "8241160c-7873-459c-854a-f4034e4618a1",
   "metadata": {},
   "outputs": [],
   "source": [
    "df.head()"
   ]
  },
  {
   "cell_type": "markdown",
   "id": "6bec52ba-2a5d-466b-b68e-0afed8206696",
   "metadata": {},
   "source": [
    "# NO NEED OF CLEANING TYPE AS IT IS ALREADY CLEANED"
   ]
  },
  {
   "cell_type": "code",
   "execution_count": null,
   "id": "26eaeed1-108b-405f-bd26-69c919dfc7c8",
   "metadata": {},
   "outputs": [],
   "source": [
    "df.Type.value_counts()"
   ]
  },
  {
   "cell_type": "markdown",
   "id": "374a9b86-7bd8-406f-b27c-b496f3708d44",
   "metadata": {},
   "source": [
    "# NOW LETS MOVE TO VISUALIZATION PART"
   ]
  },
  {
   "cell_type": "code",
   "execution_count": null,
   "id": "112708fa-f795-49f3-adfe-86550de81619",
   "metadata": {},
   "outputs": [],
   "source": [
    "plt.figure(figsize=(16, 8))\n",
    "# ax = sns.countplot(df['location'])\n",
    "# plt.xticks()\n",
    "\n",
    "location_counts = df['location'].value_counts()\n",
    "\n",
    "# plt.bar(df['location'].value_counts().index, df['location'].value_counts().values)\n",
    "plt.bar(location_counts.index, location_counts.values)\n",
    "plt.xlabel('Location')\n",
    "plt.ylabel('Count')\n",
    "plt.title('Count of Locations')\n",
    "plt.xticks(rotation=90)  # Rotate x-axis labels for better readability\n",
    "plt.show()"
   ]
  },
  {
   "cell_type": "code",
   "execution_count": null,
   "id": "766962cb-c317-41d4-ab73-8c820a944d79",
   "metadata": {},
   "outputs": [],
   "source": [
    "df.rename(columns = {'rate':'rating'}, inplace=True)\n",
    "df.head()"
   ]
  },
  {
   "cell_type": "code",
   "execution_count": null,
   "id": "afc0e2a7-b1a3-44a1-bac1-b9975ac97466",
   "metadata": {},
   "outputs": [],
   "source": [
    "plt.figure(figsize=(10,4))\n",
    "# sns.countplot(df['book_table'], palette = 'rainbow')\n",
    "\n",
    "colors = ['blue', 'red']\n",
    "plt.bar(df['book_table'].value_counts().index, df['book_table'].value_counts().values, color=colors)\n",
    "plt.xlabel('Book_table')\n",
    "plt.ylabel('Count')\n",
    "plt.title('Count of Locations')\n",
    "plt.xticks(rotation=90)  # Rotate x-axis labels for better readability\n",
    "plt.show()"
   ]
  },
  {
   "cell_type": "code",
   "execution_count": null,
   "id": "b18a69f1-59fa-43ee-9b8b-c12cf409910d",
   "metadata": {},
   "outputs": [],
   "source": [
    "plt.figure(figsize=(16,8))\n",
    "sns.countplot(df['online_order'], palette = 'rainbow')"
   ]
  },
  {
   "cell_type": "markdown",
   "id": "4618f927-1494-4880-8367-552471deb03d",
   "metadata": {},
   "source": [
    "# BOOK ONLINE ORDER AND RATING RELATION"
   ]
  },
  {
   "cell_type": "code",
   "execution_count": null,
   "id": "f96f8ee0-fe34-4878-a2f9-99c87796f0f4",
   "metadata": {},
   "outputs": [],
   "source": [
    "plt.figure(figsize = (6,6))\n",
    "sns.boxplot(x = 'online_order', y = 'rating', data = df)"
   ]
  },
  {
   "cell_type": "markdown",
   "id": "54160165-482f-4336-9fd5-23c42c10e1f4",
   "metadata": {},
   "source": [
    "# BOOK TABLE AND RATING RELATION"
   ]
  },
  {
   "cell_type": "code",
   "execution_count": null,
   "id": "8835a337-5abb-4c79-83e2-d2281dc35855",
   "metadata": {},
   "outputs": [],
   "source": [
    "plt.figure(figsize = (6,6))\n",
    "sns.boxplot(x = 'book_table', y = 'rating', data = df)   \n",
    "# imp pbservation.... restaurants having book table facility have more rating means people are loving those \n",
    "# restaurants which have book table facility\n"
   ]
  },
  {
   "cell_type": "markdown",
   "id": "eed8bc73-7a3f-420c-b004-cb5b3c317864",
   "metadata": {},
   "source": [
    "# ONLINE ORDER AND LOCATION RELATION"
   ]
  },
  {
   "cell_type": "code",
   "execution_count": null,
   "id": "205a347d-70a7-42f3-9e23-695b19d37f30",
   "metadata": {},
   "outputs": [],
   "source": [
    "# df1 = df.groupby(['location', 'online_order'])['name'].count()\n",
    "# df1.to_csv('location_online.csv')\n",
    "# df1 = pd.read_csv('location_online.csv')\n",
    "# df1 = pd.pivot_table(df1, values=None, index=['location'], columns=['online_order'], fill_value=0, aggfunc=np.sum)\n",
    "\n",
    "# (new learning) short code :)\n",
    "\n",
    "df1 = pd.crosstab(df['location'], df['online_order'])\n",
    "df1"
   ]
  },
  {
   "cell_type": "code",
   "execution_count": null,
   "id": "02fec5f2-b407-4bb4-8293-601e5dd1f455",
   "metadata": {},
   "outputs": [],
   "source": []
  },
  {
   "cell_type": "code",
   "execution_count": null,
   "id": "5b6ee041-2c82-4465-b52e-0c266d87122c",
   "metadata": {},
   "outputs": [],
   "source": [
    "df1.plot(kind = 'bar', figsize=(25,12))"
   ]
  },
  {
   "cell_type": "code",
   "execution_count": null,
   "id": "12ed50f8-1345-4555-93a0-4270aa233b81",
   "metadata": {},
   "outputs": [],
   "source": [
    "# df2 = df.groupby(['location', 'book_table'])['name'].count()\n",
    "# df2.to_csv('location_book.csv')\n",
    "# df2 = pd.read_csv('location_book.csv')\n",
    "# df2 = pd.pivot_table(df2, values=None, index=['location'], columns=['book_table'], fill_value=0, aggfunc=np.sum)\n",
    "# df2\n",
    "\n",
    "\n",
    "# df2 = pd.crosstab(df['location'], df['book_table'])\n",
    "df2 = pd.crosstab(df['location'], df['book_table'], normalize='columns')*100\n",
    "# df2\n",
    "df2.head()"
   ]
  },
  {
   "cell_type": "code",
   "execution_count": null,
   "id": "9dabe06c-e1a6-48ae-b88e-c09c20e0ef0c",
   "metadata": {},
   "outputs": [],
   "source": [
    "df2.plot(kind='bar', figsize = (15,8))"
   ]
  },
  {
   "cell_type": "markdown",
   "id": "369f67d0-96ff-42b5-87cd-66c6c92d3c0e",
   "metadata": {},
   "source": [
    "# TYPE AND RATING BOXPLOT"
   ]
  },
  {
   "cell_type": "code",
   "execution_count": null,
   "id": "1168b8bb-6e16-4eca-a54c-27fc753774a3",
   "metadata": {},
   "outputs": [],
   "source": [
    "plt.figure(figsize=(14,8))\n",
    "sns.boxplot(x='Type', y='rating', data=df, palette='inferno')"
   ]
  },
  {
   "cell_type": "code",
   "execution_count": null,
   "id": "8b49f4fd-5fd8-4194-93d5-20a5a8976e4c",
   "metadata": {},
   "outputs": [],
   "source": [
    "# df3 = df.groupby(['location', 'Type'])['name'].count()\n",
    "# df3.to_csv('location_type.csv')\n",
    "# df3 = pd.read_csv('location_type.csv')\n",
    "# df3 = pd.pivot_table(df3, values=None, index=['location'], columns=['Type'], fill_value=0, aggfunc=np.sum)\n",
    "\n",
    "df3 = pd.crosstab(df['location'], df['Type'], normalize='columns')*100\n",
    "df3.head()"
   ]
  },
  {
   "cell_type": "code",
   "execution_count": null,
   "id": "8f5b1475-e932-4b54-bdcc-530e72dbcb24",
   "metadata": {},
   "outputs": [],
   "source": [
    "dfx = df3.head(20)\n",
    "dfx.plot(kind='bar', figsize = (40, 10))\n",
    "\n",
    "# tough to read and understand, could have done something better **(todo thing)**"
   ]
  },
  {
   "cell_type": "markdown",
   "id": "c4a12ee5-c4e2-4e8d-a0c0-4be1f8fda8b6",
   "metadata": {},
   "source": [
    "# LOCATION AND VOTES"
   ]
  },
  {
   "cell_type": "code",
   "execution_count": null,
   "id": "7907ddcf-9e96-4561-bfb1-b4c2bf72c10a",
   "metadata": {},
   "outputs": [],
   "source": [
    "# df4 = df[['location', 'votes']]\n",
    "# df4.drop_duplicates()\n",
    "# df5 = df4.groupby(['location'])['votes'].sum()\n",
    "# df5.to_csv('xyz')\n",
    "# df5 = pd.read_csv('xyz')\n",
    "\n",
    "\n",
    " # ** OR ** #\n",
    "\n",
    "df5 = df[['location', 'votes']]\n",
    "# df4.drop_duplicates();\n",
    "# df5 = df4.groupby(['location'])['votes'].sum()\n",
    "# df5 = df5.to_frame()\n",
    "\n",
    " # ** OR ** #\n",
    "\n",
    "df4 = df[['location', 'votes']]\n",
    "df4.drop_duplicates();\n",
    "df4 = pd.crosstab(df['location'], df['votes'].sum())\n",
    "\n",
    "# df5 = df5.sort_values('votes', ascending=False)\n",
    "df4.head()"
   ]
  },
  {
   "cell_type": "code",
   "execution_count": null,
   "id": "8fa7a156-7b9c-49a1-89ab-70b0ae984e09",
   "metadata": {},
   "outputs": [],
   "source": [
    "plt.figure(figsize = (15,8))\n",
    "sns.barplot(x=df5.index, y=df5['votes'])\n",
    "plt.xticks(rotation=90)\n",
    "plt.show()\n"
   ]
  },
  {
   "cell_type": "code",
   "execution_count": null,
   "id": "8cb93940-5707-4dec-b87c-f049e14d8b00",
   "metadata": {},
   "outputs": [],
   "source": [
    "df.head()"
   ]
  },
  {
   "cell_type": "markdown",
   "id": "3e490a79-32c5-4f75-8635-0c011d59f5cc",
   "metadata": {},
   "source": [
    "# CUISINES AND VOTES"
   ]
  },
  {
   "cell_type": "code",
   "execution_count": null,
   "id": "cc0e282c-3bf1-412e-9bef-7caae246c7e2",
   "metadata": {},
   "outputs": [],
   "source": [
    "df6 = df[['cuisines', 'votes']]\n",
    "df6.drop_duplicates()\n",
    "df7 = df6.groupby(['cuisines'])['votes'].sum()\n",
    "df7 = df7.to_frame()\n",
    "df7 = df7.sort_values('votes', ascending=False)\n",
    "df7.head()"
   ]
  },
  {
   "cell_type": "code",
   "execution_count": null,
   "id": "e193bb5c-bc67-4918-8ae0-7c0ec93c8754",
   "metadata": {},
   "outputs": [],
   "source": [
    "df7 = df7.iloc[1:, :]  # to exclude others\n",
    "df7"
   ]
  },
  {
   "cell_type": "code",
   "execution_count": null,
   "id": "00dfbbf4-c020-4f7b-8598-ddba965167fd",
   "metadata": {},
   "outputs": [],
   "source": [
    "df7.head()"
   ]
  },
  {
   "cell_type": "code",
   "execution_count": null,
   "id": "059e7530-fe95-4632-b0e5-6390f06e9377",
   "metadata": {},
   "outputs": [],
   "source": [
    "plt.figure(figsize = (15,8))\n",
    "sns.barplot(x=df7.index, y=df7['votes'])\n",
    "plt.xticks(rotation=90)\n",
    "plt.show()"
   ]
  },
  {
   "cell_type": "code",
   "execution_count": null,
   "id": "6dc6a454-94f7-4049-9014-0b74d20e8f26",
   "metadata": {},
   "outputs": [],
   "source": []
  }
 ],
 "metadata": {
  "kernelspec": {
   "display_name": "Python 3 (ipykernel)",
   "language": "python",
   "name": "python3"
  },
  "language_info": {
   "codemirror_mode": {
    "name": "ipython",
    "version": 3
   },
   "file_extension": ".py",
   "mimetype": "text/x-python",
   "name": "python",
   "nbconvert_exporter": "python",
   "pygments_lexer": "ipython3",
   "version": "3.11.4"
  }
 },
 "nbformat": 4,
 "nbformat_minor": 5
}
